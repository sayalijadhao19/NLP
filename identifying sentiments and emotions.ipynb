{
  "nbformat": 4,
  "nbformat_minor": 0,
  "metadata": {
    "colab": {
      "provenance": []
    },
    "kernelspec": {
      "name": "python3",
      "display_name": "Python 3"
    },
    "language_info": {
      "name": "python"
    }
  },
  "cells": [
    {
      "cell_type": "code",
      "source": [
        "import nltk\n",
        "from textblob import TextBlob\n",
        "\n",
        "nltk.download('punkt')\n",
        "nltk.download('vader_lexicon')\n",
        "nltk.download('averaged_perceptron_tagger')\n",
        "nltk.download('wordnet')\n",
        "\n",
        "def analyze_sentiment(text):\n",
        "    blob = TextBlob(text)\n",
        "    sentiment_score = blob.sentiment.polarity\n",
        "    if sentiment_score > 0:\n",
        "        return \"Positive\"\n",
        "    elif sentiment_score < 0:\n",
        "        return \"Negative\"\n",
        "    else:\n",
        "        return \"Neutral\"\n",
        "\n",
        "def analyze_emotions(text):\n",
        "    blob = TextBlob(text)\n",
        "    emotions = []\n",
        "    for sentence in blob.sentences:\n",
        "        emotions.extend(sentence.sentiment_assessments.assessments)\n",
        "    return emotions\n",
        "\n",
        "def main():\n",
        "    text = input(\"Enter the text you want to analyze: \")\n",
        "\n",
        "    # Sentiment analysis\n",
        "    sentiment = analyze_sentiment(text)\n",
        "    print(\"Sentiment:\", sentiment)\n",
        "\n",
        "    # Emotion analysis\n",
        "    emotions = analyze_emotions(text)\n",
        "    if emotions:\n",
        "        print(\"Emotions expressed:\")\n",
        "        for emotion in emotions:\n",
        "            print(emotion[0], \"-\", emotion[1])\n",
        "    else:\n",
        "        print(\"No emotions detected.\")\n",
        "\n",
        "if __name__ == \"__main__\":\n",
        "    main()\n"
      ],
      "metadata": {
        "colab": {
          "base_uri": "https://localhost:8080/"
        },
        "id": "tra5fQcOrRQ5",
        "outputId": "e46f3875-57f9-4b01-9b9e-f5e4d2d2c422"
      },
      "execution_count": null,
      "outputs": [
        {
          "output_type": "stream",
          "name": "stderr",
          "text": [
            "[nltk_data] Downloading package punkt to /root/nltk_data...\n",
            "[nltk_data]   Package punkt is already up-to-date!\n",
            "[nltk_data] Downloading package vader_lexicon to /root/nltk_data...\n",
            "[nltk_data]   Package vader_lexicon is already up-to-date!\n",
            "[nltk_data] Downloading package averaged_perceptron_tagger to\n",
            "[nltk_data]     /root/nltk_data...\n",
            "[nltk_data]   Package averaged_perceptron_tagger is already up-to-\n",
            "[nltk_data]       date!\n",
            "[nltk_data] Downloading package wordnet to /root/nltk_data...\n",
            "[nltk_data]   Package wordnet is already up-to-date!\n"
          ]
        },
        {
          "output_type": "stream",
          "name": "stdout",
          "text": [
            "Enter the text you want to analyze: happiness is the key to success\n",
            "Sentiment: Positive\n",
            "Emotions expressed:\n",
            "['happiness'] - 0.7\n",
            "['key'] - 0.0\n",
            "['success'] - 0.3\n"
          ]
        }
      ]
    },
    {
      "cell_type": "code",
      "source": [],
      "metadata": {
        "id": "aFv-s2mzsW29"
      },
      "execution_count": null,
      "outputs": []
    }
  ]
}