{
  "cells": [
    {
      "cell_type": "code",
      "execution_count": null,
      "metadata": {
        "id": "Fgn4X1-0kFqr"
      },
      "outputs": [],
      "source": [
        "from collections import defaultdict\n",
        "\n",
        "def build_ngram_model(corpus, n):\n",
        "    ngram_counts = defaultdict(int)\n",
        "    total_count = 0\n",
        "\n",
        "    for i in range(len(corpus) - n + 1):\n",
        "        ngram = tuple(corpus[i:i+n])\n",
        "        ngram_counts[ngram] += 1\n",
        "        total_count += 1\n",
        "\n",
        "    return ngram_counts, total_count\n",
        "\n",
        "def calculate_probability(ngram_counts, total_count, sequence):\n",
        "    ngram = tuple(sequence[-n:])\n",
        "    count = ngram_counts.get(ngram, 0)\n",
        "    return count / total_count if total_count > 0 else 0.0"
      ]
    },
    {
      "cell_type": "code",
      "execution_count": null,
      "metadata": {
        "colab": {
          "base_uri": "https://localhost:8080/"
        },
        "id": "9rn2pqFmkQb1",
        "outputId": "6427b830-e3df-4b22-9c53-f2cab71bc8af"
      },
      "outputs": [
        {
          "name": "stdout",
          "output_type": "stream",
          "text": [
            "Probability of sequence: 0.1111111111111111\n"
          ]
        }
      ],
      "source": [
        "corpus = \"this is a simple example of an ngram language model\".split()\n",
        "n = 2\n",
        "ngram_counts, total_count = build_ngram_model(corpus, n)\n",
        "sequence = \"this is a simple example\".split()\n",
        "probability = calculate_probability(ngram_counts, total_count, sequence)\n",
        "print(\"Probability of sequence:\", probability)"
      ]
    },
    {
      "cell_type": "code",
      "execution_count": null,
      "metadata": {
        "id": "h4w60kh8o7O6"
      },
      "outputs": [],
      "source": []
    }
  ],
  "metadata": {
    "colab": {
      "provenance": []
    },
    "kernelspec": {
      "display_name": "Python 3",
      "name": "python3"
    },
    "language_info": {
      "name": "python"
    }
  },
  "nbformat": 4,
  "nbformat_minor": 0
}
