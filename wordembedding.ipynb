{
  "nbformat": 4,
  "nbformat_minor": 0,
  "metadata": {
    "colab": {
      "provenance": []
    },
    "kernelspec": {
      "name": "python3",
      "display_name": "Python 3"
    },
    "language_info": {
      "name": "python"
    }
  },
  "cells": [
    {
      "cell_type": "code",
      "execution_count": 3,
      "metadata": {
        "colab": {
          "base_uri": "https://localhost:8080/"
        },
        "id": "-dmbtXRoagIZ",
        "outputId": "69f0b281-2de5-47ad-df5b-94892c59fdab"
      },
      "outputs": [
        {
          "output_type": "stream",
          "name": "stderr",
          "text": [
            "[nltk_data] Downloading package punkt to /root/nltk_data...\n",
            "[nltk_data]   Unzipping tokenizers/punkt.zip.\n"
          ]
        },
        {
          "output_type": "stream",
          "name": "stdout",
          "text": [
            "Enter a sentence: sayali is a good girl\n",
            "Enter a word to find similar words: good\n",
            "Words similar to 'good':\n",
            "is: 0.06797593832015991\n",
            "sayali: 0.004503030329942703\n",
            "girl: -0.010839177295565605\n",
            "a: -0.023671656847000122\n",
            "\n",
            "Vocabulary: ['a', 'girl', 'good', 'is', 'sayali']\n",
            "One-hot encoded vectors:\n",
            "sayali: [0. 0. 0. 0. 1.]\n",
            "is: [0. 0. 0. 1. 0.]\n",
            "a: [1. 0. 0. 0. 0.]\n",
            "good: [0. 0. 1. 0. 0.]\n",
            "girl: [0. 1. 0. 0. 0.]\n"
          ]
        }
      ],
      "source": [
        "from gensim.models import Word2Vec\n",
        "from nltk.tokenize import word_tokenize\n",
        "from sklearn.preprocessing import OneHotEncoder\n",
        "import numpy as np\n",
        "import warnings\n",
        "warnings.filterwarnings(\"ignore\")\n",
        "import nltk\n",
        "nltk.download('punkt')\n",
        "\n",
        "# Take user input\n",
        "user_input = input(\"Enter a sentence: \")\n",
        "\n",
        "# Tokenize the input text\n",
        "tokenized_text = word_tokenize(user_input.lower())\n",
        "\n",
        "# Train Word2Vec model\n",
        "model = Word2Vec([tokenized_text], vector_size=100, window=5, min_count=1, workers=4)\n",
        "\n",
        "# Find similar words\n",
        "word = input(\"Enter a word to find similar words: \")\n",
        "similar_words = model.wv.most_similar(word)\n",
        "\n",
        "# Print similar words\n",
        "print(f\"Words similar to '{word}':\")\n",
        "for similar_word, similarity in similar_words:\n",
        "    print(f\"{similar_word}: {similarity}\")\n",
        "\n",
        "\n",
        "def one_hot_encoding(text):\n",
        "    tokens = word_tokenize(text)\n",
        "\n",
        "    word_set = set(tokens)\n",
        "    word_list = sorted(list(word_set))\n",
        "    encoder = OneHotEncoder(sparse=False)\n",
        "    tokens_array = np.array(tokens).reshape(-1, 1)\n",
        "    encoder.fit(tokens_array)\n",
        "    one_hot_vectors = encoder.transform(tokens_array)\n",
        "    print(\"\\nVocabulary:\", word_list)\n",
        "    print(\"One-hot encoded vectors:\")\n",
        "    for i, token in enumerate(tokens):\n",
        "        print(f\"{token}: {one_hot_vectors[i]}\")\n",
        "\n",
        "one_hot_encoding(user_input)"
      ]
    },
    {
      "cell_type": "code",
      "source": [],
      "metadata": {
        "id": "f2-XcxBAaiAm"
      },
      "execution_count": null,
      "outputs": []
    }
  ]
}