{
  "nbformat": 4,
  "nbformat_minor": 0,
  "metadata": {
    "colab": {
      "provenance": []
    },
    "kernelspec": {
      "name": "python3",
      "display_name": "Python 3"
    },
    "language_info": {
      "name": "python"
    }
  },
  "cells": [
    {
      "cell_type": "code",
      "source": [
        "import pandas as pd\n",
        "import nltk\n",
        "nltk.download('punkt')\n",
        "from nltk.tokenize import word_tokenize"
      ],
      "metadata": {
        "colab": {
          "base_uri": "https://localhost:8080/"
        },
        "id": "GeEu6KwwfEkF",
        "outputId": "6cb7d52f-ec50-41be-a2ba-9cc986bb3ed0"
      },
      "execution_count": null,
      "outputs": [
        {
          "output_type": "stream",
          "name": "stderr",
          "text": [
            "[nltk_data] Downloading package punkt to /root/nltk_data...\n",
            "[nltk_data]   Package punkt is already up-to-date!\n"
          ]
        }
      ]
    },
    {
      "cell_type": "markdown",
      "source": [
        "Porter Stemmer"
      ],
      "metadata": {
        "id": "pQZQQ6ydgL1m"
      }
    },
    {
      "cell_type": "code",
      "source": [
        "from nltk.stem import PorterStemmer\n",
        "\n",
        "porter = PorterStemmer()\n",
        "\n",
        "sentence = \"A data set (or dataset) is a collection of data. In the case of tabular data, a data set corresponds to one or more database tables, where every column of a table represents a particular variable, and each row corresponds to a given record of the data set in question.\"\n",
        "\n",
        "words = word_tokenize(sentence)\n",
        "\n",
        "stemmed_words = [porter.stem(word) for word in words]\n",
        "\n",
        "print(\"Original Sentence:\")\n",
        "print(sentence)\n",
        "print(\"\\nStemmed Sentence:\")\n",
        "print(\" \".join(stemmed_words))\n"
      ],
      "metadata": {
        "colab": {
          "base_uri": "https://localhost:8080/"
        },
        "id": "xcdmTU_CexXy",
        "outputId": "0545e880-123f-4b66-fd9d-17ec22e91383"
      },
      "execution_count": null,
      "outputs": [
        {
          "output_type": "stream",
          "name": "stdout",
          "text": [
            "Original Sentence:\n",
            "A data set (or dataset) is a collection of data. In the case of tabular data, a data set corresponds to one or more database tables, where every column of a table represents a particular variable, and each row corresponds to a given record of the data set in question.\n",
            "\n",
            "Stemmed Sentence:\n",
            "a data set ( or dataset ) is a collect of data . in the case of tabular data , a data set correspond to one or more databas tabl , where everi column of a tabl repres a particular variabl , and each row correspond to a given record of the data set in question .\n"
          ]
        }
      ]
    },
    {
      "cell_type": "markdown",
      "source": [
        "Snowball Stemmer"
      ],
      "metadata": {
        "id": "CrrIpiwZgOcm"
      }
    },
    {
      "cell_type": "code",
      "source": [
        "from nltk.stem import SnowballStemmer\n",
        "from nltk.tokenize import word_tokenize\n",
        "\n",
        "language = \"english\"\n",
        "\n",
        "stemmer = SnowballStemmer(language)\n",
        "\n",
        "words = word_tokenize(sentence)\n",
        "\n",
        "stemmed_words = [stemmer.stem(word) for word in words]\n",
        "\n",
        "print(\"Original Sentence:\")\n",
        "print(sentence)\n",
        "print(\"\\nStemmed Sentence:\")\n",
        "print(\" \".join(stemmed_words))\n"
      ],
      "metadata": {
        "colab": {
          "base_uri": "https://localhost:8080/"
        },
        "id": "7pztV6aze9E6",
        "outputId": "e5f99eb1-769d-4c40-bdb2-652dcbc4fc7c"
      },
      "execution_count": null,
      "outputs": [
        {
          "output_type": "stream",
          "name": "stdout",
          "text": [
            "Original Sentence:\n",
            "A data set (or dataset) is a collection of data. In the case of tabular data, a data set corresponds to one or more database tables, where every column of a table represents a particular variable, and each row corresponds to a given record of the data set in question.\n",
            "\n",
            "Stemmed Sentence:\n",
            "a data set ( or dataset ) is a collect of data . in the case of tabular data , a data set correspond to one or more databas tabl , where everi column of a tabl repres a particular variabl , and each row correspond to a given record of the data set in question .\n"
          ]
        }
      ]
    },
    {
      "cell_type": "code",
      "source": [],
      "metadata": {
        "id": "Mvn5ukpIgCeH"
      },
      "execution_count": null,
      "outputs": []
    }
  ]
}